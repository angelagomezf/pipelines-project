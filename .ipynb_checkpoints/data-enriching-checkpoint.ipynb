{
 "cells": [
  {
   "cell_type": "markdown",
   "metadata": {},
   "source": [
    "# Data Enriching"
   ]
  },
  {
   "cell_type": "markdown",
   "metadata": {},
   "source": [
    "## 1. Importing file"
   ]
  },
  {
   "cell_type": "code",
   "execution_count": 1,
   "metadata": {},
   "outputs": [],
   "source": [
    "import pandas as pd"
   ]
  },
  {
   "cell_type": "code",
   "execution_count": 2,
   "metadata": {},
   "outputs": [
    {
     "data": {
      "text/html": [
       "<div>\n",
       "<style scoped>\n",
       "    .dataframe tbody tr th:only-of-type {\n",
       "        vertical-align: middle;\n",
       "    }\n",
       "\n",
       "    .dataframe tbody tr th {\n",
       "        vertical-align: top;\n",
       "    }\n",
       "\n",
       "    .dataframe thead th {\n",
       "        text-align: right;\n",
       "    }\n",
       "</style>\n",
       "<table border=\"1\" class=\"dataframe\">\n",
       "  <thead>\n",
       "    <tr style=\"text-align: right;\">\n",
       "      <th></th>\n",
       "      <th>Unnamed: 0</th>\n",
       "      <th>RANK</th>\n",
       "      <th>BRAND</th>\n",
       "      <th>CATEGORIES</th>\n",
       "      <th>SUBCATEGORIES</th>\n",
       "      <th>FOLLOWERS</th>\n",
       "      <th>ER</th>\n",
       "      <th>iPOSTS ON HASHTAG</th>\n",
       "      <th>MEDIA POSTED</th>\n",
       "    </tr>\n",
       "  </thead>\n",
       "  <tbody>\n",
       "    <tr>\n",
       "      <th>0</th>\n",
       "      <td>0</td>\n",
       "      <td>1</td>\n",
       "      <td>Selena Gomez</td>\n",
       "      <td>celebrities</td>\n",
       "      <td>musicians</td>\n",
       "      <td>105.4M</td>\n",
       "      <td>2.62%</td>\n",
       "      <td>14.5M</td>\n",
       "      <td>1.2k</td>\n",
       "    </tr>\n",
       "    <tr>\n",
       "      <th>1</th>\n",
       "      <td>1</td>\n",
       "      <td>2</td>\n",
       "      <td>Taylor Swift</td>\n",
       "      <td>celebrities</td>\n",
       "      <td>musicians</td>\n",
       "      <td>95.2M</td>\n",
       "      <td>1.96%</td>\n",
       "      <td>10.5M</td>\n",
       "      <td>958</td>\n",
       "    </tr>\n",
       "    <tr>\n",
       "      <th>2</th>\n",
       "      <td>2</td>\n",
       "      <td>3</td>\n",
       "      <td>Ariana Grande</td>\n",
       "      <td>celebrities</td>\n",
       "      <td>musicians</td>\n",
       "      <td>92.3M</td>\n",
       "      <td>1.43%</td>\n",
       "      <td>16.9M</td>\n",
       "      <td>2.8k</td>\n",
       "    </tr>\n",
       "    <tr>\n",
       "      <th>3</th>\n",
       "      <td>3</td>\n",
       "      <td>4</td>\n",
       "      <td>Beyonce</td>\n",
       "      <td>celebrities</td>\n",
       "      <td>musicians</td>\n",
       "      <td>90.6M</td>\n",
       "      <td>2.53%</td>\n",
       "      <td>9.2M</td>\n",
       "      <td>1.4k</td>\n",
       "    </tr>\n",
       "    <tr>\n",
       "      <th>4</th>\n",
       "      <td>7</td>\n",
       "      <td>8</td>\n",
       "      <td>Justin Bieber</td>\n",
       "      <td>celebrities</td>\n",
       "      <td>musicians</td>\n",
       "      <td>77.9M</td>\n",
       "      <td>1.66%</td>\n",
       "      <td>26.2M</td>\n",
       "      <td>3.8k</td>\n",
       "    </tr>\n",
       "  </tbody>\n",
       "</table>\n",
       "</div>"
      ],
      "text/plain": [
       "   Unnamed: 0  RANK          BRAND   CATEGORIES SUBCATEGORIES FOLLOWERS  \\\n",
       "0           0     1   Selena Gomez  celebrities     musicians    105.4M   \n",
       "1           1     2   Taylor Swift  celebrities     musicians     95.2M   \n",
       "2           2     3  Ariana Grande  celebrities     musicians     92.3M   \n",
       "3           3     4        Beyonce  celebrities     musicians     90.6M   \n",
       "4           7     8  Justin Bieber  celebrities     musicians     77.9M   \n",
       "\n",
       "      ER iPOSTS ON HASHTAG MEDIA POSTED  \n",
       "0  2.62%             14.5M         1.2k  \n",
       "1  1.96%             10.5M          958  \n",
       "2  1.43%             16.9M         2.8k  \n",
       "3  2.53%              9.2M         1.4k  \n",
       "4  1.66%             26.2M         3.8k  "
      ]
     },
     "execution_count": 2,
     "metadata": {},
     "output_type": "execute_result"
    }
   ],
   "source": [
    "df = pd.read_csv('musicians.csv', encoding = 'Windows-1252')\n",
    "df.head()"
   ]
  },
  {
   "cell_type": "markdown",
   "metadata": {},
   "source": [
    "### Dropping 'Unnamed' column"
   ]
  },
  {
   "cell_type": "code",
   "execution_count": 3,
   "metadata": {},
   "outputs": [
    {
     "data": {
      "text/plain": [
       "array(['Unnamed: 0', 'RANK', 'BRAND', 'CATEGORIES', 'SUBCATEGORIES',\n",
       "       'FOLLOWERS', 'ER', 'iPOSTS ON HASHTAG', 'MEDIA POSTED'],\n",
       "      dtype=object)"
      ]
     },
     "execution_count": 3,
     "metadata": {},
     "output_type": "execute_result"
    }
   ],
   "source": [
    "df.columns.values"
   ]
  },
  {
   "cell_type": "code",
   "execution_count": 4,
   "metadata": {},
   "outputs": [],
   "source": [
    "df.drop('Unnamed: 0', axis=1, inplace=True)"
   ]
  },
  {
   "cell_type": "code",
   "execution_count": 5,
   "metadata": {},
   "outputs": [
    {
     "data": {
      "text/html": [
       "<div>\n",
       "<style scoped>\n",
       "    .dataframe tbody tr th:only-of-type {\n",
       "        vertical-align: middle;\n",
       "    }\n",
       "\n",
       "    .dataframe tbody tr th {\n",
       "        vertical-align: top;\n",
       "    }\n",
       "\n",
       "    .dataframe thead th {\n",
       "        text-align: right;\n",
       "    }\n",
       "</style>\n",
       "<table border=\"1\" class=\"dataframe\">\n",
       "  <thead>\n",
       "    <tr style=\"text-align: right;\">\n",
       "      <th></th>\n",
       "      <th>RANK</th>\n",
       "      <th>BRAND</th>\n",
       "      <th>CATEGORIES</th>\n",
       "      <th>SUBCATEGORIES</th>\n",
       "      <th>FOLLOWERS</th>\n",
       "      <th>ER</th>\n",
       "      <th>iPOSTS ON HASHTAG</th>\n",
       "      <th>MEDIA POSTED</th>\n",
       "    </tr>\n",
       "  </thead>\n",
       "  <tbody>\n",
       "    <tr>\n",
       "      <th>0</th>\n",
       "      <td>1</td>\n",
       "      <td>Selena Gomez</td>\n",
       "      <td>celebrities</td>\n",
       "      <td>musicians</td>\n",
       "      <td>105.4M</td>\n",
       "      <td>2.62%</td>\n",
       "      <td>14.5M</td>\n",
       "      <td>1.2k</td>\n",
       "    </tr>\n",
       "    <tr>\n",
       "      <th>1</th>\n",
       "      <td>2</td>\n",
       "      <td>Taylor Swift</td>\n",
       "      <td>celebrities</td>\n",
       "      <td>musicians</td>\n",
       "      <td>95.2M</td>\n",
       "      <td>1.96%</td>\n",
       "      <td>10.5M</td>\n",
       "      <td>958</td>\n",
       "    </tr>\n",
       "    <tr>\n",
       "      <th>2</th>\n",
       "      <td>3</td>\n",
       "      <td>Ariana Grande</td>\n",
       "      <td>celebrities</td>\n",
       "      <td>musicians</td>\n",
       "      <td>92.3M</td>\n",
       "      <td>1.43%</td>\n",
       "      <td>16.9M</td>\n",
       "      <td>2.8k</td>\n",
       "    </tr>\n",
       "    <tr>\n",
       "      <th>3</th>\n",
       "      <td>4</td>\n",
       "      <td>Beyonce</td>\n",
       "      <td>celebrities</td>\n",
       "      <td>musicians</td>\n",
       "      <td>90.6M</td>\n",
       "      <td>2.53%</td>\n",
       "      <td>9.2M</td>\n",
       "      <td>1.4k</td>\n",
       "    </tr>\n",
       "    <tr>\n",
       "      <th>4</th>\n",
       "      <td>8</td>\n",
       "      <td>Justin Bieber</td>\n",
       "      <td>celebrities</td>\n",
       "      <td>musicians</td>\n",
       "      <td>77.9M</td>\n",
       "      <td>1.66%</td>\n",
       "      <td>26.2M</td>\n",
       "      <td>3.8k</td>\n",
       "    </tr>\n",
       "  </tbody>\n",
       "</table>\n",
       "</div>"
      ],
      "text/plain": [
       "   RANK          BRAND   CATEGORIES SUBCATEGORIES FOLLOWERS     ER  \\\n",
       "0     1   Selena Gomez  celebrities     musicians    105.4M  2.62%   \n",
       "1     2   Taylor Swift  celebrities     musicians     95.2M  1.96%   \n",
       "2     3  Ariana Grande  celebrities     musicians     92.3M  1.43%   \n",
       "3     4        Beyonce  celebrities     musicians     90.6M  2.53%   \n",
       "4     8  Justin Bieber  celebrities     musicians     77.9M  1.66%   \n",
       "\n",
       "  iPOSTS ON HASHTAG MEDIA POSTED  \n",
       "0             14.5M         1.2k  \n",
       "1             10.5M          958  \n",
       "2             16.9M         2.8k  \n",
       "3              9.2M         1.4k  \n",
       "4             26.2M         3.8k  "
      ]
     },
     "execution_count": 5,
     "metadata": {},
     "output_type": "execute_result"
    }
   ],
   "source": [
    "df.head()"
   ]
  },
  {
   "cell_type": "code",
   "execution_count": 6,
   "metadata": {},
   "outputs": [
    {
     "data": {
      "text/plain": [
       "(30, 8)"
      ]
     },
     "execution_count": 6,
     "metadata": {},
     "output_type": "execute_result"
    }
   ],
   "source": [
    "df.shape"
   ]
  },
  {
   "cell_type": "code",
   "execution_count": 7,
   "metadata": {},
   "outputs": [
    {
     "data": {
      "text/plain": [
       "MEDIA POSTED         0\n",
       "iPOSTS ON HASHTAG    0\n",
       "ER                   0\n",
       "FOLLOWERS            0\n",
       "SUBCATEGORIES        0\n",
       "CATEGORIES           0\n",
       "BRAND                0\n",
       "RANK                 0\n",
       "dtype: int64"
      ]
     },
     "execution_count": 7,
     "metadata": {},
     "output_type": "execute_result"
    }
   ],
   "source": [
    "df.isnull().sum().sort_values(ascending=False)"
   ]
  },
  {
   "cell_type": "markdown",
   "metadata": {},
   "source": [
    "### Creating a new column: 'SPOTIFY NAMES'"
   ]
  },
  {
   "cell_type": "markdown",
   "metadata": {},
   "source": [
    "Since the musicians' Instagram usernames don't always match their usernames on Spotify, let's create another column."
   ]
  },
  {
   "cell_type": "code",
   "execution_count": 8,
   "metadata": {},
   "outputs": [
    {
     "data": {
      "text/plain": [
       "0          Selena Gomez\n",
       "1          Taylor Swift\n",
       "2         Ariana Grande\n",
       "3               Beyonce\n",
       "4         Justin Bieber\n",
       "5           Nicki Minaj\n",
       "6            KATY PERRY\n",
       "7           Miley Cyrus\n",
       "8        Jennifer Lopez\n",
       "9           Demi Lovato\n",
       "10           badgalriri\n",
       "11    Justin Timberlake\n",
       "12              Zendaya\n",
       "13        champagnepapi\n",
       "14              Shakira\n",
       "15         xoxo, Joanne\n",
       "16          harrystyles\n",
       "17          Niall Horan\n",
       "18        One Direction\n",
       "19         Shawn Mendes\n",
       "20             euanitta\n",
       "21                Ciara\n",
       "22       Britney Spears\n",
       "23            snoopdogg\n",
       "24         Daddy Yankee\n",
       "25        elliegoulding\n",
       "26              50 Cent\n",
       "27         Luan Santana\n",
       "28      Louis Tomlinson\n",
       "29        Tyga / T-Raww\n",
       "Name: BRAND, dtype: object"
      ]
     },
     "execution_count": 8,
     "metadata": {},
     "output_type": "execute_result"
    }
   ],
   "source": [
    "df['BRAND']"
   ]
  },
  {
   "cell_type": "code",
   "execution_count": 9,
   "metadata": {},
   "outputs": [],
   "source": [
    "df['SPOTIFY NAMES'] = df['BRAND']"
   ]
  },
  {
   "cell_type": "code",
   "execution_count": 10,
   "metadata": {},
   "outputs": [],
   "source": [
    "df['SPOTIFY NAMES'].replace('KATY PERRY', 'Katy Perry', inplace=True)\n",
    "df['SPOTIFY NAMES'].replace('badgalriri', 'Rihanna', inplace=True)\n",
    "df['SPOTIFY NAMES'].replace('champagnepapi', 'Drake', inplace=True)\n",
    "df['SPOTIFY NAMES'].replace('xoxo, Joanne', 'Lady Gaga', inplace=True)\n",
    "df['SPOTIFY NAMES'].replace('harrystyles', 'Harry Styles', inplace=True)\n",
    "df['SPOTIFY NAMES'].replace('euanitta', 'Anitta', inplace=True)\n",
    "df['SPOTIFY NAMES'].replace('snoopdogg', 'Snoop Dogg', inplace=True)\n",
    "df['SPOTIFY NAMES'].replace('elliegoulding', 'Ellie Goulding', inplace=True)\n",
    "df['SPOTIFY NAMES'].replace('Tyga / T-Raww', 'Tyga', inplace=True)"
   ]
  },
  {
   "cell_type": "code",
   "execution_count": 11,
   "metadata": {},
   "outputs": [
    {
     "data": {
      "text/html": [
       "<div>\n",
       "<style scoped>\n",
       "    .dataframe tbody tr th:only-of-type {\n",
       "        vertical-align: middle;\n",
       "    }\n",
       "\n",
       "    .dataframe tbody tr th {\n",
       "        vertical-align: top;\n",
       "    }\n",
       "\n",
       "    .dataframe thead th {\n",
       "        text-align: right;\n",
       "    }\n",
       "</style>\n",
       "<table border=\"1\" class=\"dataframe\">\n",
       "  <thead>\n",
       "    <tr style=\"text-align: right;\">\n",
       "      <th></th>\n",
       "      <th>RANK</th>\n",
       "      <th>BRAND</th>\n",
       "      <th>CATEGORIES</th>\n",
       "      <th>SUBCATEGORIES</th>\n",
       "      <th>FOLLOWERS</th>\n",
       "      <th>ER</th>\n",
       "      <th>iPOSTS ON HASHTAG</th>\n",
       "      <th>MEDIA POSTED</th>\n",
       "      <th>SPOTIFY NAMES</th>\n",
       "    </tr>\n",
       "  </thead>\n",
       "  <tbody>\n",
       "    <tr>\n",
       "      <th>0</th>\n",
       "      <td>1</td>\n",
       "      <td>Selena Gomez</td>\n",
       "      <td>celebrities</td>\n",
       "      <td>musicians</td>\n",
       "      <td>105.4M</td>\n",
       "      <td>2.62%</td>\n",
       "      <td>14.5M</td>\n",
       "      <td>1.2k</td>\n",
       "      <td>Selena Gomez</td>\n",
       "    </tr>\n",
       "    <tr>\n",
       "      <th>1</th>\n",
       "      <td>2</td>\n",
       "      <td>Taylor Swift</td>\n",
       "      <td>celebrities</td>\n",
       "      <td>musicians</td>\n",
       "      <td>95.2M</td>\n",
       "      <td>1.96%</td>\n",
       "      <td>10.5M</td>\n",
       "      <td>958</td>\n",
       "      <td>Taylor Swift</td>\n",
       "    </tr>\n",
       "    <tr>\n",
       "      <th>2</th>\n",
       "      <td>3</td>\n",
       "      <td>Ariana Grande</td>\n",
       "      <td>celebrities</td>\n",
       "      <td>musicians</td>\n",
       "      <td>92.3M</td>\n",
       "      <td>1.43%</td>\n",
       "      <td>16.9M</td>\n",
       "      <td>2.8k</td>\n",
       "      <td>Ariana Grande</td>\n",
       "    </tr>\n",
       "    <tr>\n",
       "      <th>3</th>\n",
       "      <td>4</td>\n",
       "      <td>Beyonce</td>\n",
       "      <td>celebrities</td>\n",
       "      <td>musicians</td>\n",
       "      <td>90.6M</td>\n",
       "      <td>2.53%</td>\n",
       "      <td>9.2M</td>\n",
       "      <td>1.4k</td>\n",
       "      <td>Beyonce</td>\n",
       "    </tr>\n",
       "    <tr>\n",
       "      <th>4</th>\n",
       "      <td>8</td>\n",
       "      <td>Justin Bieber</td>\n",
       "      <td>celebrities</td>\n",
       "      <td>musicians</td>\n",
       "      <td>77.9M</td>\n",
       "      <td>1.66%</td>\n",
       "      <td>26.2M</td>\n",
       "      <td>3.8k</td>\n",
       "      <td>Justin Bieber</td>\n",
       "    </tr>\n",
       "  </tbody>\n",
       "</table>\n",
       "</div>"
      ],
      "text/plain": [
       "   RANK          BRAND   CATEGORIES SUBCATEGORIES FOLLOWERS     ER  \\\n",
       "0     1   Selena Gomez  celebrities     musicians    105.4M  2.62%   \n",
       "1     2   Taylor Swift  celebrities     musicians     95.2M  1.96%   \n",
       "2     3  Ariana Grande  celebrities     musicians     92.3M  1.43%   \n",
       "3     4        Beyonce  celebrities     musicians     90.6M  2.53%   \n",
       "4     8  Justin Bieber  celebrities     musicians     77.9M  1.66%   \n",
       "\n",
       "  iPOSTS ON HASHTAG MEDIA POSTED  SPOTIFY NAMES  \n",
       "0             14.5M         1.2k   Selena Gomez  \n",
       "1             10.5M          958   Taylor Swift  \n",
       "2             16.9M         2.8k  Ariana Grande  \n",
       "3              9.2M         1.4k        Beyonce  \n",
       "4             26.2M         3.8k  Justin Bieber  "
      ]
     },
     "execution_count": 11,
     "metadata": {},
     "output_type": "execute_result"
    }
   ],
   "source": [
    "df.head()"
   ]
  },
  {
   "cell_type": "markdown",
   "metadata": {},
   "source": [
    "## 2. Setting up the API"
   ]
  },
  {
   "cell_type": "markdown",
   "metadata": {},
   "source": [
    "- In order to find information about the most followed musicians on Instagram, we will use the **spotify API**, more specifically, its library called **spotipy**.\n",
    "- To begin with, we have to install it:"
   ]
  },
  {
   "cell_type": "markdown",
   "metadata": {},
   "source": [
    "### Installing"
   ]
  },
  {
   "cell_type": "code",
   "execution_count": 12,
   "metadata": {},
   "outputs": [
    {
     "name": "stdout",
     "output_type": "stream",
     "text": [
      "Requirement already satisfied: spotipy in /Library/Frameworks/Python.framework/Versions/3.8/lib/python3.8/site-packages (2.16.1)\r\n",
      "Requirement already satisfied: six>=1.10.0 in /Library/Frameworks/Python.framework/Versions/3.8/lib/python3.8/site-packages (from spotipy) (1.15.0)\r\n",
      "Requirement already satisfied: requests>=2.20.0 in /Library/Frameworks/Python.framework/Versions/3.8/lib/python3.8/site-packages (from spotipy) (2.24.0)\r\n",
      "Requirement already satisfied: idna<3,>=2.5 in /Library/Frameworks/Python.framework/Versions/3.8/lib/python3.8/site-packages (from requests>=2.20.0->spotipy) (2.10)\r\n",
      "Requirement already satisfied: urllib3!=1.25.0,!=1.25.1,<1.26,>=1.21.1 in /Library/Frameworks/Python.framework/Versions/3.8/lib/python3.8/site-packages (from requests>=2.20.0->spotipy) (1.25.11)\r\n",
      "Requirement already satisfied: chardet<4,>=3.0.2 in /Library/Frameworks/Python.framework/Versions/3.8/lib/python3.8/site-packages (from requests>=2.20.0->spotipy) (3.0.4)\r\n",
      "Requirement already satisfied: certifi>=2017.4.17 in /Library/Frameworks/Python.framework/Versions/3.8/lib/python3.8/site-packages (from requests>=2.20.0->spotipy) (2020.6.20)\r\n"
     ]
    }
   ],
   "source": [
    "!pip3 install spotipy"
   ]
  },
  {
   "cell_type": "markdown",
   "metadata": {},
   "source": [
    "### Importing the libraries"
   ]
  },
  {
   "cell_type": "code",
   "execution_count": 13,
   "metadata": {},
   "outputs": [],
   "source": [
    "from spotipy.oauth2 import SpotifyClientCredentials\n",
    "import sys\n",
    "import pprint\n",
    "import spotipy\n",
    "import spotipy.util as util\n",
    "\n",
    "from dotenv import load_dotenv\n",
    "import os\n",
    "import re\n",
    "import requests"
   ]
  },
  {
   "cell_type": "markdown",
   "metadata": {},
   "source": [
    "### Authentification"
   ]
  },
  {
   "cell_type": "code",
   "execution_count": 14,
   "metadata": {},
   "outputs": [
    {
     "data": {
      "text/plain": [
       "True"
      ]
     },
     "execution_count": 14,
     "metadata": {},
     "output_type": "execute_result"
    }
   ],
   "source": [
    "load_dotenv()"
   ]
  },
  {
   "cell_type": "code",
   "execution_count": 15,
   "metadata": {},
   "outputs": [],
   "source": [
    "client_id = os.getenv(\"CLIENT_ID\")\n",
    "client_secret = os.getenv(\"CLIENT_SECRET\")"
   ]
  },
  {
   "cell_type": "code",
   "execution_count": 16,
   "metadata": {},
   "outputs": [],
   "source": [
    "sp = spotipy.Spotify(client_credentials_manager=SpotifyClientCredentials(client_id=client_id,\n",
    "                                                                client_secret=client_secret))"
   ]
  },
  {
   "cell_type": "markdown",
   "metadata": {},
   "source": [
    "- Now that we have installed **spotipy**, we want to extract information to enrich our dataset.\n",
    "- We will start by finding each musicians' usernames on Spotify and then their followers."
   ]
  },
  {
   "cell_type": "markdown",
   "metadata": {},
   "source": [
    "## 3. Finding SPOTIFY FOLLOWERS"
   ]
  },
  {
   "cell_type": "markdown",
   "metadata": {},
   "source": [
    "#### Let's create a list with every musicians' username on Spotify"
   ]
  },
  {
   "cell_type": "code",
   "execution_count": 17,
   "metadata": {},
   "outputs": [
    {
     "data": {
      "text/plain": [
       "['Selena Gomez',\n",
       " 'Taylor Swift',\n",
       " 'Ariana Grande',\n",
       " 'Beyonce',\n",
       " 'Justin Bieber',\n",
       " 'Nicki Minaj',\n",
       " 'Katy Perry',\n",
       " 'Miley Cyrus',\n",
       " 'Jennifer Lopez',\n",
       " 'Demi Lovato',\n",
       " 'Rihanna',\n",
       " 'Justin Timberlake',\n",
       " 'Zendaya',\n",
       " 'Drake',\n",
       " 'Shakira',\n",
       " 'Lady Gaga',\n",
       " 'Harry Styles',\n",
       " 'Niall Horan',\n",
       " 'One Direction',\n",
       " 'Shawn Mendes',\n",
       " 'Anitta',\n",
       " 'Ciara',\n",
       " 'Britney Spears',\n",
       " 'Snoop Dogg',\n",
       " 'Daddy Yankee',\n",
       " 'Ellie Goulding',\n",
       " '50 Cent',\n",
       " 'Luan Santana',\n",
       " 'Louis Tomlinson',\n",
       " 'Tyga']"
      ]
     },
     "execution_count": 17,
     "metadata": {},
     "output_type": "execute_result"
    }
   ],
   "source": [
    "musicians = list(df['SPOTIFY NAMES'])\n",
    "musicians"
   ]
  },
  {
   "cell_type": "markdown",
   "metadata": {},
   "source": [
    "### FOR loop"
   ]
  },
  {
   "cell_type": "markdown",
   "metadata": {},
   "source": [
    "We are using Spotipy's endpoint **search** which will allow us to find what we are looking for, in this case, each artists' **total followers**."
   ]
  },
  {
   "cell_type": "code",
   "execution_count": 18,
   "metadata": {},
   "outputs": [
    {
     "name": "stdout",
     "output_type": "stream",
     "text": [
      "[23253551, 33421356, 52450478, 24925121, 39129410, 19126039, 16570488, 13037017, 8861658, 18329116, 39702807, 9838519, 2765611, 50541059, 19977298, 14394953, 10299531, 6156633, 18387241, 29701495, 9891719, 4600733, 7963498, 6300860, 20614030, 8593907, 6441780, 4782196, 4037381, 5975449]\n"
     ]
    }
   ],
   "source": [
    "spotify_followers = []\n",
    "\n",
    "for x in musicians:\n",
    "    track_id = sp.search(q='artist:' + x, type='artist')\n",
    "    followers = track_id['artists']['items'][0]['followers']['total']\n",
    "    spotify_followers.append(followers)\n",
    "    \n",
    "print(spotify_followers)"
   ]
  },
  {
   "cell_type": "markdown",
   "metadata": {},
   "source": [
    "Let's add the information to a new column in the dataframe."
   ]
  },
  {
   "cell_type": "code",
   "execution_count": 19,
   "metadata": {},
   "outputs": [],
   "source": [
    "df['SPOTIFY FOLLOWERS'] = spotify_followers"
   ]
  },
  {
   "cell_type": "code",
   "execution_count": 20,
   "metadata": {},
   "outputs": [
    {
     "data": {
      "text/html": [
       "<div>\n",
       "<style scoped>\n",
       "    .dataframe tbody tr th:only-of-type {\n",
       "        vertical-align: middle;\n",
       "    }\n",
       "\n",
       "    .dataframe tbody tr th {\n",
       "        vertical-align: top;\n",
       "    }\n",
       "\n",
       "    .dataframe thead th {\n",
       "        text-align: right;\n",
       "    }\n",
       "</style>\n",
       "<table border=\"1\" class=\"dataframe\">\n",
       "  <thead>\n",
       "    <tr style=\"text-align: right;\">\n",
       "      <th></th>\n",
       "      <th>RANK</th>\n",
       "      <th>BRAND</th>\n",
       "      <th>CATEGORIES</th>\n",
       "      <th>SUBCATEGORIES</th>\n",
       "      <th>FOLLOWERS</th>\n",
       "      <th>ER</th>\n",
       "      <th>iPOSTS ON HASHTAG</th>\n",
       "      <th>MEDIA POSTED</th>\n",
       "      <th>SPOTIFY NAMES</th>\n",
       "      <th>SPOTIFY FOLLOWERS</th>\n",
       "    </tr>\n",
       "  </thead>\n",
       "  <tbody>\n",
       "    <tr>\n",
       "      <th>0</th>\n",
       "      <td>1</td>\n",
       "      <td>Selena Gomez</td>\n",
       "      <td>celebrities</td>\n",
       "      <td>musicians</td>\n",
       "      <td>105.4M</td>\n",
       "      <td>2.62%</td>\n",
       "      <td>14.5M</td>\n",
       "      <td>1.2k</td>\n",
       "      <td>Selena Gomez</td>\n",
       "      <td>23253551</td>\n",
       "    </tr>\n",
       "    <tr>\n",
       "      <th>1</th>\n",
       "      <td>2</td>\n",
       "      <td>Taylor Swift</td>\n",
       "      <td>celebrities</td>\n",
       "      <td>musicians</td>\n",
       "      <td>95.2M</td>\n",
       "      <td>1.96%</td>\n",
       "      <td>10.5M</td>\n",
       "      <td>958</td>\n",
       "      <td>Taylor Swift</td>\n",
       "      <td>33421356</td>\n",
       "    </tr>\n",
       "    <tr>\n",
       "      <th>2</th>\n",
       "      <td>3</td>\n",
       "      <td>Ariana Grande</td>\n",
       "      <td>celebrities</td>\n",
       "      <td>musicians</td>\n",
       "      <td>92.3M</td>\n",
       "      <td>1.43%</td>\n",
       "      <td>16.9M</td>\n",
       "      <td>2.8k</td>\n",
       "      <td>Ariana Grande</td>\n",
       "      <td>52450478</td>\n",
       "    </tr>\n",
       "    <tr>\n",
       "      <th>3</th>\n",
       "      <td>4</td>\n",
       "      <td>Beyonce</td>\n",
       "      <td>celebrities</td>\n",
       "      <td>musicians</td>\n",
       "      <td>90.6M</td>\n",
       "      <td>2.53%</td>\n",
       "      <td>9.2M</td>\n",
       "      <td>1.4k</td>\n",
       "      <td>Beyonce</td>\n",
       "      <td>24925121</td>\n",
       "    </tr>\n",
       "    <tr>\n",
       "      <th>4</th>\n",
       "      <td>8</td>\n",
       "      <td>Justin Bieber</td>\n",
       "      <td>celebrities</td>\n",
       "      <td>musicians</td>\n",
       "      <td>77.9M</td>\n",
       "      <td>1.66%</td>\n",
       "      <td>26.2M</td>\n",
       "      <td>3.8k</td>\n",
       "      <td>Justin Bieber</td>\n",
       "      <td>39129410</td>\n",
       "    </tr>\n",
       "  </tbody>\n",
       "</table>\n",
       "</div>"
      ],
      "text/plain": [
       "   RANK          BRAND   CATEGORIES SUBCATEGORIES FOLLOWERS     ER  \\\n",
       "0     1   Selena Gomez  celebrities     musicians    105.4M  2.62%   \n",
       "1     2   Taylor Swift  celebrities     musicians     95.2M  1.96%   \n",
       "2     3  Ariana Grande  celebrities     musicians     92.3M  1.43%   \n",
       "3     4        Beyonce  celebrities     musicians     90.6M  2.53%   \n",
       "4     8  Justin Bieber  celebrities     musicians     77.9M  1.66%   \n",
       "\n",
       "  iPOSTS ON HASHTAG MEDIA POSTED  SPOTIFY NAMES  SPOTIFY FOLLOWERS  \n",
       "0             14.5M         1.2k   Selena Gomez           23253551  \n",
       "1             10.5M          958   Taylor Swift           33421356  \n",
       "2             16.9M         2.8k  Ariana Grande           52450478  \n",
       "3              9.2M         1.4k        Beyonce           24925121  \n",
       "4             26.2M         3.8k  Justin Bieber           39129410  "
      ]
     },
     "execution_count": 20,
     "metadata": {},
     "output_type": "execute_result"
    }
   ],
   "source": [
    "df.head()"
   ]
  },
  {
   "cell_type": "markdown",
   "metadata": {},
   "source": [
    "## 4. Finding PHOTO"
   ]
  },
  {
   "cell_type": "markdown",
   "metadata": {},
   "source": [
    "Now, let's use **search** endpoint to find each musicians' **profile photo**."
   ]
  },
  {
   "cell_type": "code",
   "execution_count": 21,
   "metadata": {},
   "outputs": [
    {
     "name": "stdout",
     "output_type": "stream",
     "text": [
      "['https://i.scdn.co/image/61fc36467d4945514cdf052ed49286aa8ea3b4fc', 'https://i.scdn.co/image/a37efbc7fd3f5f5df81b48ce9c6de53820b239c1', 'https://i.scdn.co/image/f8c793519d837ca2f920c561535fe62ef32e8e5b', 'https://i.scdn.co/image/ad8b0e5a18a5a443a2678768bd73f59833941abc', 'https://i.scdn.co/image/3ff69320dd62625e0e24737c1965027695369a31', 'https://i.scdn.co/image/2a832cd2b8dd5d0deef6d682ca52ea29f5dda859', 'https://i.scdn.co/image/ecebace064c7a48b7ae4a611b82887aa79163c1e', 'https://i.scdn.co/image/f040656afb8bc16cd44781dd39ea3d02184f5c0f', 'https://i.scdn.co/image/a23a2778e5787da9188cdaa959cedee9391ae4d2', 'https://i.scdn.co/image/f188b71ba0f97ef22c35c820f0a67084cffd24ec', 'https://i.scdn.co/image/1fc2f537d678d701d7d143a8fd4f0c2f29fbde22', 'https://i.scdn.co/image/5b73ff32952c810c98bd5fbe8860ca99414ad6aa', 'https://i.scdn.co/image/fba29219867535aaed72b65c2cb363040cb98103', 'https://i.scdn.co/image/60cfab40c6bb160a1906be45276829d430058005', 'https://i.scdn.co/image/93e6b100a00437a05f57aa66ce41208811296fc8', 'https://i.scdn.co/image/1f4c23aa943d8eafc17e9f02e0cb1ffc3ac49d37', 'https://i.scdn.co/image/b2163e7456f3d618a0e2a4e32bc892d6b11ce673', 'https://i.scdn.co/image/82f35ac49a5ce358af94df9f73ba31a7dd2d4721', 'https://i.scdn.co/image/5bb443424a1ad71603c43d67f5af1a04da6bb3c8', 'https://i.scdn.co/image/809b93c47fca237138e53968d86682f09d0f45a2', 'https://i.scdn.co/image/05f1a94086fd1b477779c5ec16ecf7561b6c2f5a', 'https://i.scdn.co/image/50b2efea0870ebe54f7d8c34bf2673be4f8a4ca6', 'https://i.scdn.co/image/3e47967513ccda2182b17a1b29c00810b8965bd9', 'https://i.scdn.co/image/11208d65843456cf3854717b8e411ef8fede7141', 'https://i.scdn.co/image/f03d0c7a47bf08cb4ae8de345521346553bc015f', 'https://i.scdn.co/image/350804be731a64decef83b36771aa9f1b1f39ab7', 'https://i.scdn.co/image/dd031b9c5d1b6eba4a691cd89c954255aae787f2', 'https://i.scdn.co/image/f641610eb3dd4443ba5f69a2cc83934abce63789', 'https://i.scdn.co/image/a63ba37dc90f583e8d82ea2bc7fc6a027c71d912', 'https://i.scdn.co/image/80ba1d2870effe233433ec72dce98e0436cac5b4']\n"
     ]
    }
   ],
   "source": [
    "spotify_photo = []\n",
    "\n",
    "for x in musicians:\n",
    "    track_id = sp.search(q='artist:' + x, type='artist')\n",
    "    photo = track_id['artists']['items'][0]['images'][0]['url']\n",
    "    spotify_photo.append(photo)\n",
    "    \n",
    "print(spotify_photo)"
   ]
  },
  {
   "cell_type": "code",
   "execution_count": 22,
   "metadata": {},
   "outputs": [],
   "source": [
    "df['SPOTIFY PHOTO'] = spotify_photo"
   ]
  },
  {
   "cell_type": "code",
   "execution_count": 23,
   "metadata": {},
   "outputs": [
    {
     "data": {
      "text/html": [
       "<div>\n",
       "<style scoped>\n",
       "    .dataframe tbody tr th:only-of-type {\n",
       "        vertical-align: middle;\n",
       "    }\n",
       "\n",
       "    .dataframe tbody tr th {\n",
       "        vertical-align: top;\n",
       "    }\n",
       "\n",
       "    .dataframe thead th {\n",
       "        text-align: right;\n",
       "    }\n",
       "</style>\n",
       "<table border=\"1\" class=\"dataframe\">\n",
       "  <thead>\n",
       "    <tr style=\"text-align: right;\">\n",
       "      <th></th>\n",
       "      <th>RANK</th>\n",
       "      <th>BRAND</th>\n",
       "      <th>CATEGORIES</th>\n",
       "      <th>SUBCATEGORIES</th>\n",
       "      <th>FOLLOWERS</th>\n",
       "      <th>ER</th>\n",
       "      <th>iPOSTS ON HASHTAG</th>\n",
       "      <th>MEDIA POSTED</th>\n",
       "      <th>SPOTIFY NAMES</th>\n",
       "      <th>SPOTIFY FOLLOWERS</th>\n",
       "      <th>SPOTIFY PHOTO</th>\n",
       "    </tr>\n",
       "  </thead>\n",
       "  <tbody>\n",
       "    <tr>\n",
       "      <th>0</th>\n",
       "      <td>1</td>\n",
       "      <td>Selena Gomez</td>\n",
       "      <td>celebrities</td>\n",
       "      <td>musicians</td>\n",
       "      <td>105.4M</td>\n",
       "      <td>2.62%</td>\n",
       "      <td>14.5M</td>\n",
       "      <td>1.2k</td>\n",
       "      <td>Selena Gomez</td>\n",
       "      <td>23253551</td>\n",
       "      <td>https://i.scdn.co/image/61fc36467d4945514cdf05...</td>\n",
       "    </tr>\n",
       "    <tr>\n",
       "      <th>1</th>\n",
       "      <td>2</td>\n",
       "      <td>Taylor Swift</td>\n",
       "      <td>celebrities</td>\n",
       "      <td>musicians</td>\n",
       "      <td>95.2M</td>\n",
       "      <td>1.96%</td>\n",
       "      <td>10.5M</td>\n",
       "      <td>958</td>\n",
       "      <td>Taylor Swift</td>\n",
       "      <td>33421356</td>\n",
       "      <td>https://i.scdn.co/image/a37efbc7fd3f5f5df81b48...</td>\n",
       "    </tr>\n",
       "    <tr>\n",
       "      <th>2</th>\n",
       "      <td>3</td>\n",
       "      <td>Ariana Grande</td>\n",
       "      <td>celebrities</td>\n",
       "      <td>musicians</td>\n",
       "      <td>92.3M</td>\n",
       "      <td>1.43%</td>\n",
       "      <td>16.9M</td>\n",
       "      <td>2.8k</td>\n",
       "      <td>Ariana Grande</td>\n",
       "      <td>52450478</td>\n",
       "      <td>https://i.scdn.co/image/f8c793519d837ca2f920c5...</td>\n",
       "    </tr>\n",
       "    <tr>\n",
       "      <th>3</th>\n",
       "      <td>4</td>\n",
       "      <td>Beyonce</td>\n",
       "      <td>celebrities</td>\n",
       "      <td>musicians</td>\n",
       "      <td>90.6M</td>\n",
       "      <td>2.53%</td>\n",
       "      <td>9.2M</td>\n",
       "      <td>1.4k</td>\n",
       "      <td>Beyonce</td>\n",
       "      <td>24925121</td>\n",
       "      <td>https://i.scdn.co/image/ad8b0e5a18a5a443a26787...</td>\n",
       "    </tr>\n",
       "    <tr>\n",
       "      <th>4</th>\n",
       "      <td>8</td>\n",
       "      <td>Justin Bieber</td>\n",
       "      <td>celebrities</td>\n",
       "      <td>musicians</td>\n",
       "      <td>77.9M</td>\n",
       "      <td>1.66%</td>\n",
       "      <td>26.2M</td>\n",
       "      <td>3.8k</td>\n",
       "      <td>Justin Bieber</td>\n",
       "      <td>39129410</td>\n",
       "      <td>https://i.scdn.co/image/3ff69320dd62625e0e2473...</td>\n",
       "    </tr>\n",
       "  </tbody>\n",
       "</table>\n",
       "</div>"
      ],
      "text/plain": [
       "   RANK          BRAND   CATEGORIES SUBCATEGORIES FOLLOWERS     ER  \\\n",
       "0     1   Selena Gomez  celebrities     musicians    105.4M  2.62%   \n",
       "1     2   Taylor Swift  celebrities     musicians     95.2M  1.96%   \n",
       "2     3  Ariana Grande  celebrities     musicians     92.3M  1.43%   \n",
       "3     4        Beyonce  celebrities     musicians     90.6M  2.53%   \n",
       "4     8  Justin Bieber  celebrities     musicians     77.9M  1.66%   \n",
       "\n",
       "  iPOSTS ON HASHTAG MEDIA POSTED  SPOTIFY NAMES  SPOTIFY FOLLOWERS  \\\n",
       "0             14.5M         1.2k   Selena Gomez           23253551   \n",
       "1             10.5M          958   Taylor Swift           33421356   \n",
       "2             16.9M         2.8k  Ariana Grande           52450478   \n",
       "3              9.2M         1.4k        Beyonce           24925121   \n",
       "4             26.2M         3.8k  Justin Bieber           39129410   \n",
       "\n",
       "                                       SPOTIFY PHOTO  \n",
       "0  https://i.scdn.co/image/61fc36467d4945514cdf05...  \n",
       "1  https://i.scdn.co/image/a37efbc7fd3f5f5df81b48...  \n",
       "2  https://i.scdn.co/image/f8c793519d837ca2f920c5...  \n",
       "3  https://i.scdn.co/image/ad8b0e5a18a5a443a26787...  \n",
       "4  https://i.scdn.co/image/3ff69320dd62625e0e2473...  "
      ]
     },
     "execution_count": 23,
     "metadata": {},
     "output_type": "execute_result"
    }
   ],
   "source": [
    "df.head()"
   ]
  },
  {
   "cell_type": "markdown",
   "metadata": {},
   "source": [
    "## 5. Editing df"
   ]
  },
  {
   "cell_type": "code",
   "execution_count": 24,
   "metadata": {},
   "outputs": [
    {
     "data": {
      "text/plain": [
       "RANK                  int64\n",
       "BRAND                object\n",
       "CATEGORIES           object\n",
       "SUBCATEGORIES        object\n",
       "FOLLOWERS            object\n",
       "ER                   object\n",
       "iPOSTS ON HASHTAG    object\n",
       "MEDIA POSTED         object\n",
       "SPOTIFY NAMES        object\n",
       "SPOTIFY FOLLOWERS     int64\n",
       "SPOTIFY PHOTO        object\n",
       "dtype: object"
      ]
     },
     "execution_count": 24,
     "metadata": {},
     "output_type": "execute_result"
    }
   ],
   "source": [
    "df.dtypes"
   ]
  },
  {
   "cell_type": "markdown",
   "metadata": {},
   "source": [
    "Since the column \"FOLLOWERS\" is of type *object*, and we want to be able to plot it later on in a nice bar chart, let's convert it into a numeric variable."
   ]
  },
  {
   "cell_type": "code",
   "execution_count": 25,
   "metadata": {},
   "outputs": [
    {
     "data": {
      "text/plain": [
       "12.9M     2\n",
       "14.6M     1\n",
       "31.1M     1\n",
       "14M       1\n",
       "57.8M     1\n",
       "39.6M     1\n",
       "92.3M     1\n",
       "55.1M     1\n",
       "16.9M     1\n",
       "36M       1\n",
       "20.4M     1\n",
       "51.3M     1\n",
       "11.8M     1\n",
       "11.6M     1\n",
       "17.2M     1\n",
       "105.4M    1\n",
       "90.6M     1\n",
       "70.8M     1\n",
       "13.3M     1\n",
       "12.2M     1\n",
       "95.2M     1\n",
       "18.3M     1\n",
       "47.3M     1\n",
       "59.6M     1\n",
       "28.4M     1\n",
       "14.5M     1\n",
       "77.9M     1\n",
       "19.4M     1\n",
       "16.6M     1\n",
       "Name: FOLLOWERS, dtype: int64"
      ]
     },
     "execution_count": 25,
     "metadata": {},
     "output_type": "execute_result"
    }
   ],
   "source": [
    "df[\"FOLLOWERS\"].value_counts()"
   ]
  },
  {
   "cell_type": "code",
   "execution_count": 26,
   "metadata": {},
   "outputs": [],
   "source": [
    "df.replace('M','',regex=True, inplace=True)"
   ]
  },
  {
   "cell_type": "code",
   "execution_count": 27,
   "metadata": {},
   "outputs": [],
   "source": [
    "df[\"FOLLOWERS\"] = df[\"FOLLOWERS\"].astype(float)"
   ]
  },
  {
   "cell_type": "code",
   "execution_count": 28,
   "metadata": {},
   "outputs": [
    {
     "data": {
      "text/plain": [
       "RANK                   int64\n",
       "BRAND                 object\n",
       "CATEGORIES            object\n",
       "SUBCATEGORIES         object\n",
       "FOLLOWERS            float64\n",
       "ER                    object\n",
       "iPOSTS ON HASHTAG     object\n",
       "MEDIA POSTED          object\n",
       "SPOTIFY NAMES         object\n",
       "SPOTIFY FOLLOWERS      int64\n",
       "SPOTIFY PHOTO         object\n",
       "dtype: object"
      ]
     },
     "execution_count": 28,
     "metadata": {},
     "output_type": "execute_result"
    }
   ],
   "source": [
    "df.dtypes"
   ]
  },
  {
   "cell_type": "markdown",
   "metadata": {},
   "source": [
    "Let's change the name of the column to make sure that the data is in *Millions* of followers."
   ]
  },
  {
   "cell_type": "code",
   "execution_count": 29,
   "metadata": {},
   "outputs": [],
   "source": [
    "df.rename(columns={\"FOLLOWERS\": \"FOLLOWERS (M)\"}, inplace=True)"
   ]
  },
  {
   "cell_type": "code",
   "execution_count": 30,
   "metadata": {},
   "outputs": [
    {
     "data": {
      "text/html": [
       "<div>\n",
       "<style scoped>\n",
       "    .dataframe tbody tr th:only-of-type {\n",
       "        vertical-align: middle;\n",
       "    }\n",
       "\n",
       "    .dataframe tbody tr th {\n",
       "        vertical-align: top;\n",
       "    }\n",
       "\n",
       "    .dataframe thead th {\n",
       "        text-align: right;\n",
       "    }\n",
       "</style>\n",
       "<table border=\"1\" class=\"dataframe\">\n",
       "  <thead>\n",
       "    <tr style=\"text-align: right;\">\n",
       "      <th></th>\n",
       "      <th>RANK</th>\n",
       "      <th>BRAND</th>\n",
       "      <th>CATEGORIES</th>\n",
       "      <th>SUBCATEGORIES</th>\n",
       "      <th>FOLLOWERS (M)</th>\n",
       "      <th>ER</th>\n",
       "      <th>iPOSTS ON HASHTAG</th>\n",
       "      <th>MEDIA POSTED</th>\n",
       "      <th>SPOTIFY NAMES</th>\n",
       "      <th>SPOTIFY FOLLOWERS</th>\n",
       "      <th>SPOTIFY PHOTO</th>\n",
       "    </tr>\n",
       "  </thead>\n",
       "  <tbody>\n",
       "    <tr>\n",
       "      <th>0</th>\n",
       "      <td>1</td>\n",
       "      <td>Selena Gomez</td>\n",
       "      <td>celebrities</td>\n",
       "      <td>musicians</td>\n",
       "      <td>105.4</td>\n",
       "      <td>2.62%</td>\n",
       "      <td>14.5</td>\n",
       "      <td>1.2k</td>\n",
       "      <td>Selena Gomez</td>\n",
       "      <td>23253551</td>\n",
       "      <td>https://i.scdn.co/image/61fc36467d4945514cdf05...</td>\n",
       "    </tr>\n",
       "    <tr>\n",
       "      <th>1</th>\n",
       "      <td>2</td>\n",
       "      <td>Taylor Swift</td>\n",
       "      <td>celebrities</td>\n",
       "      <td>musicians</td>\n",
       "      <td>95.2</td>\n",
       "      <td>1.96%</td>\n",
       "      <td>10.5</td>\n",
       "      <td>958</td>\n",
       "      <td>Taylor Swift</td>\n",
       "      <td>33421356</td>\n",
       "      <td>https://i.scdn.co/image/a37efbc7fd3f5f5df81b48...</td>\n",
       "    </tr>\n",
       "    <tr>\n",
       "      <th>2</th>\n",
       "      <td>3</td>\n",
       "      <td>Ariana Grande</td>\n",
       "      <td>celebrities</td>\n",
       "      <td>musicians</td>\n",
       "      <td>92.3</td>\n",
       "      <td>1.43%</td>\n",
       "      <td>16.9</td>\n",
       "      <td>2.8k</td>\n",
       "      <td>Ariana Grande</td>\n",
       "      <td>52450478</td>\n",
       "      <td>https://i.scdn.co/image/f8c793519d837ca2f920c5...</td>\n",
       "    </tr>\n",
       "    <tr>\n",
       "      <th>3</th>\n",
       "      <td>4</td>\n",
       "      <td>Beyonce</td>\n",
       "      <td>celebrities</td>\n",
       "      <td>musicians</td>\n",
       "      <td>90.6</td>\n",
       "      <td>2.53%</td>\n",
       "      <td>9.2</td>\n",
       "      <td>1.4k</td>\n",
       "      <td>Beyonce</td>\n",
       "      <td>24925121</td>\n",
       "      <td>https://i.scdn.co/image/ad8b0e5a18a5a443a26787...</td>\n",
       "    </tr>\n",
       "    <tr>\n",
       "      <th>4</th>\n",
       "      <td>8</td>\n",
       "      <td>Justin Bieber</td>\n",
       "      <td>celebrities</td>\n",
       "      <td>musicians</td>\n",
       "      <td>77.9</td>\n",
       "      <td>1.66%</td>\n",
       "      <td>26.2</td>\n",
       "      <td>3.8k</td>\n",
       "      <td>Justin Bieber</td>\n",
       "      <td>39129410</td>\n",
       "      <td>https://i.scdn.co/image/3ff69320dd62625e0e2473...</td>\n",
       "    </tr>\n",
       "  </tbody>\n",
       "</table>\n",
       "</div>"
      ],
      "text/plain": [
       "   RANK          BRAND   CATEGORIES SUBCATEGORIES  FOLLOWERS (M)     ER  \\\n",
       "0     1   Selena Gomez  celebrities     musicians          105.4  2.62%   \n",
       "1     2   Taylor Swift  celebrities     musicians           95.2  1.96%   \n",
       "2     3  Ariana Grande  celebrities     musicians           92.3  1.43%   \n",
       "3     4        Beyonce  celebrities     musicians           90.6  2.53%   \n",
       "4     8  Justin Bieber  celebrities     musicians           77.9  1.66%   \n",
       "\n",
       "  iPOSTS ON HASHTAG MEDIA POSTED  SPOTIFY NAMES  SPOTIFY FOLLOWERS  \\\n",
       "0              14.5         1.2k   Selena Gomez           23253551   \n",
       "1              10.5          958   Taylor Swift           33421356   \n",
       "2              16.9         2.8k  Ariana Grande           52450478   \n",
       "3               9.2         1.4k        Beyonce           24925121   \n",
       "4              26.2         3.8k  Justin Bieber           39129410   \n",
       "\n",
       "                                       SPOTIFY PHOTO  \n",
       "0  https://i.scdn.co/image/61fc36467d4945514cdf05...  \n",
       "1  https://i.scdn.co/image/a37efbc7fd3f5f5df81b48...  \n",
       "2  https://i.scdn.co/image/f8c793519d837ca2f920c5...  \n",
       "3  https://i.scdn.co/image/ad8b0e5a18a5a443a26787...  \n",
       "4  https://i.scdn.co/image/3ff69320dd62625e0e2473...  "
      ]
     },
     "execution_count": 30,
     "metadata": {},
     "output_type": "execute_result"
    }
   ],
   "source": [
    "df.head()"
   ]
  },
  {
   "cell_type": "markdown",
   "metadata": {},
   "source": [
    "## 6. Saving enriched dataset"
   ]
  },
  {
   "cell_type": "code",
   "execution_count": 31,
   "metadata": {},
   "outputs": [],
   "source": [
    "df.to_csv('musicians_enriched.csv')"
   ]
  }
 ],
 "metadata": {
  "kernelspec": {
   "display_name": "Python 3",
   "language": "python",
   "name": "python3"
  },
  "language_info": {
   "codemirror_mode": {
    "name": "ipython",
    "version": 3
   },
   "file_extension": ".py",
   "mimetype": "text/x-python",
   "name": "python",
   "nbconvert_exporter": "python",
   "pygments_lexer": "ipython3",
   "version": "3.8.5"
  }
 },
 "nbformat": 4,
 "nbformat_minor": 4
}
